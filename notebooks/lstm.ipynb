{
 "cells": [
  {
   "cell_type": "code",
   "execution_count": 2,
   "metadata": {
    "collapsed": false
   },
   "outputs": [
    {
     "name": "stderr",
     "output_type": "stream",
     "text": [
      "D:\\Users\\greg_\\Anaconda3\\lib\\site-packages\\pandas\\core\\indexing.py:297: SettingWithCopyWarning: \n",
      "A value is trying to be set on a copy of a slice from a DataFrame.\n",
      "Try using .loc[row_indexer,col_indexer] = value instead\n",
      "\n",
      "See the caveats in the documentation: http://pandas.pydata.org/pandas-docs/stable/indexing.html#indexing-view-versus-copy\n",
      "  self.obj[key] = _infer_fill_value(value)\n",
      "D:\\Users\\greg_\\Anaconda3\\lib\\site-packages\\pandas\\core\\indexing.py:477: SettingWithCopyWarning: \n",
      "A value is trying to be set on a copy of a slice from a DataFrame.\n",
      "Try using .loc[row_indexer,col_indexer] = value instead\n",
      "\n",
      "See the caveats in the documentation: http://pandas.pydata.org/pandas-docs/stable/indexing.html#indexing-view-versus-copy\n",
      "  self.obj[item] = s\n"
     ]
    }
   ],
   "source": [
    "%run ../prepare_data.py -N_users 10"
   ]
  },
  {
   "cell_type": "code",
   "execution_count": 3,
   "metadata": {
    "collapsed": false
   },
   "outputs": [
    {
     "name": "stderr",
     "output_type": "stream",
     "text": [
      "D:\\Users\\greg_\\Anaconda3\\lib\\site-packages\\pandas\\core\\indexing.py:297: SettingWithCopyWarning: \n",
      "A value is trying to be set on a copy of a slice from a DataFrame.\n",
      "Try using .loc[row_indexer,col_indexer] = value instead\n",
      "\n",
      "See the caveats in the documentation: http://pandas.pydata.org/pandas-docs/stable/indexing.html#indexing-view-versus-copy\n",
      "  self.obj[key] = _infer_fill_value(value)\n",
      "D:\\Users\\greg_\\Anaconda3\\lib\\site-packages\\pandas\\core\\indexing.py:477: SettingWithCopyWarning: \n",
      "A value is trying to be set on a copy of a slice from a DataFrame.\n",
      "Try using .loc[row_indexer,col_indexer] = value instead\n",
      "\n",
      "See the caveats in the documentation: http://pandas.pydata.org/pandas-docs/stable/indexing.html#indexing-view-versus-copy\n",
      "  self.obj[item] = s\n"
     ]
    },
    {
     "name": "stdout",
     "output_type": "stream",
     "text": [
      "(18705, 82)\n"
     ]
    }
   ],
   "source": [
    "sequence = transform_users(\n",
    "    users.user_id.sample(100)\n",
    ")\n",
    "df_train = sequence\n",
    "\n",
    "print(df_train.shape)"
   ]
  },
  {
   "cell_type": "code",
   "execution_count": 4,
   "metadata": {
    "collapsed": false
   },
   "outputs": [
    {
     "name": "stderr",
     "output_type": "stream",
     "text": [
      "D:\\Users\\greg_\\Anaconda3\\lib\\site-packages\\pandas\\core\\indexing.py:297: SettingWithCopyWarning: \n",
      "A value is trying to be set on a copy of a slice from a DataFrame.\n",
      "Try using .loc[row_indexer,col_indexer] = value instead\n",
      "\n",
      "See the caveats in the documentation: http://pandas.pydata.org/pandas-docs/stable/indexing.html#indexing-view-versus-copy\n",
      "  self.obj[key] = _infer_fill_value(value)\n",
      "D:\\Users\\greg_\\Anaconda3\\lib\\site-packages\\pandas\\core\\indexing.py:477: SettingWithCopyWarning: \n",
      "A value is trying to be set on a copy of a slice from a DataFrame.\n",
      "Try using .loc[row_indexer,col_indexer] = value instead\n",
      "\n",
      "See the caveats in the documentation: http://pandas.pydata.org/pandas-docs/stable/indexing.html#indexing-view-versus-copy\n",
      "  self.obj[item] = s\n"
     ]
    },
    {
     "name": "stdout",
     "output_type": "stream",
     "text": [
      "(1855, 82)\n"
     ]
    }
   ],
   "source": [
    "sequence = transform_users(\n",
    "    users.user_id.sample(10)\n",
    ")\n",
    "df_test = sequence\n",
    "\n",
    "print(df_test.shape)"
   ]
  },
  {
   "cell_type": "code",
   "execution_count": 67,
   "metadata": {
    "collapsed": false
   },
   "outputs": [
    {
     "name": "stdout",
     "output_type": "stream",
     "text": [
      "Train total outputs: 16\n",
      "(18705, 82) (1855, 82)\n",
      "(6215, 60, 16)\n",
      "(6215, 16)\n",
      "(599, 60, 16)\n",
      "(599, 16)\n"
     ]
    }
   ],
   "source": [
    "from __future__ import print_function\n",
    "from keras.models import Sequential\n",
    "from keras.layers import Dense, Activation\n",
    "from keras.layers import LSTM, Dropout\n",
    "from keras.optimizers import RMSprop, adam\n",
    "from keras.utils.data_utils import get_file\n",
    "from keras.callbacks import History, ModelCheckpoint\n",
    "import numpy as np\n",
    "import pandas as pd\n",
    "import random\n",
    "import sys\n",
    "import string\n",
    "import matplotlib.pyplot as plt\n",
    "%matplotlib inline\n",
    "\n",
    "\n",
    "# Define number of inputs/outputs to handle\n",
    "input_size = 16\n",
    "output_size= 16\n",
    "\n",
    "# Load the train data\n",
    "...\n",
    "\n",
    "print('Train total outputs:', output_size)\n",
    "\n",
    "# Pre-process the data (normalize)\n",
    "\n",
    "# cut the input in semi-redundant sequences of maxlen characters\n",
    "maxlen = 60\n",
    "step_days = 3\n",
    "\n",
    "\n",
    "\n",
    "def reformat(df_in):\n",
    "    max_sequences = 10**5\n",
    "    days_sequence = np.empty((max_sequences,maxlen,input_size),dtype=int)\n",
    "    next_day = np.empty((max_sequences,output_size),dtype=int)\n",
    "    days = df_in[:,-1]\n",
    "    df = df_in[:,:-1]\n",
    "    \n",
    "    j=0\n",
    "    last_day = 0\n",
    "    for day_i in range(0, df.shape[0] - maxlen, step_days):\n",
    "        if last_day < days[day_i+maxlen]:\n",
    "            days_sequence[j] = df[day_i: day_i + maxlen,:input_size]\n",
    "        next_day[j] = df[day_i + maxlen,:output_size]\n",
    "        j += 1\n",
    "        last_day = days[day_i]\n",
    "\n",
    "    days_sequence = days_sequence[:j,:,:]\n",
    "    next_day = next_day[:j,:]\n",
    "    \n",
    "    return days_sequence,next_day\n",
    "\n",
    "X_train, y_train = reformat(df_train)\n",
    "X_test,y_test=reformat(df_test)\n",
    "\n",
    "print(df_train.shape,df_test.shape)\n",
    "print(X_train.shape)\n",
    "print(y_train.shape)\n",
    "print(X_test.shape)\n",
    "print(y_test.shape)"
   ]
  },
  {
   "cell_type": "code",
   "execution_count": 68,
   "metadata": {
    "collapsed": false
   },
   "outputs": [],
   "source": [
    "def plot_logs(history):\n",
    "    \"\"\"\n",
    "    Plot the accuracy and loss for \n",
    "        training and test sets\n",
    "    \"\"\"\n",
    "    evaluation_cost = history.history['val_loss']\n",
    "    evaluation_accuracy = history.history['val_acc']\n",
    "    training_cost = history.history['loss']\n",
    "    training_accuracy = history.history['acc']\n",
    "    f, (ax1, ax2) = plt.subplots(1, 2)\n",
    "    f.set_figwidth(10)\n",
    "    ax1.plot(evaluation_cost,label= 'test')\n",
    "    ax1.plot(training_cost, label='train')\n",
    "    ax1.set_title('Cost')\n",
    "    ax1.legend()\n",
    "    ax2.plot(evaluation_accuracy, label='test')\n",
    "    ax2.plot(training_accuracy, label='train')\n",
    "    ax2.set_title('Accuracy')\n",
    "    ax2.legend(loc='lower right')\n",
    "\n",
    "\n",
    "def sample(preds, temperature=1.0):\n",
    "    \"\"\"\n",
    "    Generate the next sequence\n",
    "    Low temperature means very conservative (picks more probable most of the time)\n",
    "    High temperature means very adventurous (picks less probable more frequently)\n",
    "    \"\"\"\n",
    "    # helper function to sample an index from a probability array\n",
    "    preds = np.asarray(preds).astype('float64')\n",
    "    preds = np.log(preds) / temperature\n",
    "    exp_preds = np.exp(preds)\n",
    "    preds = exp_preds / np.sum(exp_preds)\n",
    "    probas = np.random.multinomial(1, preds, 1)\n",
    "    return np.argmax(probas)\n",
    "\n",
    "def generate_prediction(history,days=28, maxlen=60, input_size=16, output_size=16, diversity=1):\n",
    "    \"\"\"\n",
    "    Generates as many days of prediction as requested\n",
    "    Considers maxlen days of past history (must be aligned with model)\n",
    "    \"\"\"\n",
    "    generated = np.zeros((days,input_size))\n",
    "    if history.shape[1]>maxlen:\n",
    "        x = history[:,-61:-1,:input_size]\n",
    "    else:\n",
    "        x = history[:,:,:output_size]\n",
    "    #print(x.shape)\n",
    "    for i in range(days):\n",
    "        #print(\"Day %d\" % i)\n",
    "        preds = model.predict(x, verbose=0)[0].reshape(output_size)\n",
    "        print(preds.shape)\n",
    "        #next_symptoms = sample(preds, diversity)\n",
    "        next_symptoms = preds\n",
    "        #print(next_symptoms)\n",
    "\n",
    "        generated[i,:] = next_symptoms\n",
    "        x[:,:maxlen-1,:] = x[:,1:,:]\n",
    "        x[:,maxlen-1,:] = next_symptoms\n",
    "\n",
    "    return generated"
   ]
  },
  {
   "cell_type": "code",
   "execution_count": 70,
   "metadata": {
    "collapsed": false,
    "scrolled": false
   },
   "outputs": [
    {
     "name": "stdout",
     "output_type": "stream",
     "text": [
      "Build model...\n",
      "Train on 6215 samples, validate on 599 samples\n",
      "Epoch 1/3\n",
      "6215/6215 [==============================] - 3s - loss: 0.5471 - acc: 0.8707 - val_loss: 0.2880 - val_acc: 0.9684\n",
      "Epoch 2/3\n",
      "6215/6215 [==============================] - 1s - loss: 0.1608 - acc: 0.9832 - val_loss: 0.1422 - val_acc: 0.9684\n",
      "Epoch 3/3\n",
      "6215/6215 [==============================] - 2s - loss: 0.0860 - acc: 0.9832 - val_loss: 0.1482 - val_acc: 0.9684\n",
      "Test score: 0.148177833957\n",
      "Test accuracy: 0.968384805327\n"
     ]
    },
    {
     "data": {
      "image/png": "[encoded data removed]",
      "text/plain": [
       "<matplotlib.figure.Figure at 0x1974e05df28>"
      ]
     },
     "metadata": {},
     "output_type": "display_data"
    }
   ],
   "source": [
    "# Model params\n",
    "batch_size = 512\n",
    "nb_epoch = 3\n",
    "np.random.seed(131078)\n",
    "\n",
    "# build the model\n",
    "print('Build model...')\n",
    "\n",
    "\n",
    "filepath=\"lstm_1_layer.hdf5\"\n",
    "model = Sequential()\n",
    "model.add(LSTM(128, input_shape=(maxlen, input_size)))\n",
    "model.add(Dense(output_size))\n",
    "model.add(Activation('sigmoid'))\n",
    "\n",
    "\"\"\"\n",
    "filepath=\"lstm_2_layers.hdf5\"\n",
    "model = Sequential()\n",
    "model.add(LSTM(256, input_shape=(maxlen, input_size), return_sequences=True))\n",
    "model.add(Dropout(0.1))\n",
    "model.add(LSTM(256))\n",
    "model.add(Dropout(0.1))\n",
    "model.add(Dense(output_size))\n",
    "model.add(Activation('sigmoid'))\n",
    "\"\"\"\n",
    "\n",
    "optimizer = adam()\n",
    "model.compile(loss='binary_crossentropy', \n",
    "              optimizer=optimizer,\n",
    "              metrics=['accuracy'])\n",
    "\n",
    "# Define callback to save model\n",
    "save_snapshots = ModelCheckpoint(filepath,\n",
    "                                 monitor='loss',\n",
    "                                 save_best_only=True,\n",
    "                                 save_weights_only=True,\n",
    "                                 mode='min',\n",
    "                                 verbose=0)\n",
    "callbacks_list = [save_snapshots]\n",
    "\n",
    "history = model.fit(X_train,\n",
    "                    y_train,\n",
    "                    batch_size=batch_size,\n",
    "                    nb_epoch=nb_epoch,\n",
    "                    validation_data=(X_test, y_test),\n",
    "                    callbacks=callbacks_list,\n",
    "                    verbose=1)          \n",
    "\n",
    "score = model.evaluate(X_test, y_test, verbose=2)\n",
    "print('Test score:', score[0])\n",
    "print('Test accuracy:', score[1])  \n",
    "\n",
    "plot_logs(history)          \n"
   ]
  },
  {
   "cell_type": "code",
   "execution_count": 71,
   "metadata": {
    "collapsed": false
   },
   "outputs": [
    {
     "name": "stdout",
     "output_type": "stream",
     "text": [
      "(1, 60, 16)\n",
      "(16,)\n",
      "(16,)\n",
      "(16,)\n",
      "(16,)\n",
      "(16,)\n",
      "(16,)\n",
      "(16,)\n",
      "(16,)\n",
      "(16,)\n",
      "(16,)\n",
      "(16,)\n",
      "(16,)\n",
      "(16,)\n",
      "(16,)\n",
      "(16,)\n",
      "(16,)\n",
      "(16,)\n",
      "(16,)\n",
      "(16,)\n",
      "(16,)\n",
      "(16,)\n",
      "(16,)\n",
      "(16,)\n",
      "(16,)\n",
      "(16,)\n",
      "(16,)\n",
      "(16,)\n",
      "(16,)\n"
     ]
    },
    {
     "data": {
      "text/plain": [
       "(28, 16)"
      ]
     },
     "execution_count": 71,
     "metadata": {},
     "output_type": "execute_result"
    }
   ],
   "source": [
    "hist = X_test[0,:,:].reshape(1,60,-1)\n",
    "print(hist.shape)\n",
    "res = generate_prediction(hist,maxlen=maxlen,input_size=input_size,output_size=output_size)\n",
    "res.shape"
   ]
  },
  {
   "cell_type": "code",
   "execution_count": 72,
   "metadata": {
    "collapsed": false
   },
   "outputs": [
    {
     "data": {
      "text/plain": [
       "array([[ 0.02090395,  0.0089205 ,  0.0084583 ,  0.01231497,  0.00634355,\n",
       "         0.00662608,  0.01039723,  0.01105994,  0.0277781 ,  0.0113249 ,\n",
       "         0.00584292,  0.01466934,  0.01626649,  0.00817325,  0.01360582,\n",
       "         0.00998757],\n",
       "       [ 0.02090394,  0.0089205 ,  0.0084583 ,  0.01231497,  0.00634355,\n",
       "         0.00662608,  0.01039723,  0.01105994,  0.0277781 ,  0.01132491,\n",
       "         0.00584292,  0.01466935,  0.01626649,  0.00817325,  0.01360582,\n",
       "         0.00998757],\n",
       "       [ 0.02090394,  0.00892049,  0.00845829,  0.01231497,  0.00634355,\n",
       "         0.00662608,  0.01039723,  0.01105995,  0.0277781 ,  0.01132491,\n",
       "         0.00584293,  0.01466934,  0.01626649,  0.00817325,  0.01360582,\n",
       "         0.00998757],\n",
       "       [ 0.02090393,  0.00892049,  0.00845829,  0.01231496,  0.00634355,\n",
       "         0.00662608,  0.01039723,  0.01105995,  0.02777808,  0.01132491,\n",
       "         0.00584292,  0.01466935,  0.01626649,  0.00817326,  0.01360582,\n",
       "         0.00998757],\n",
       "       [ 0.02090392,  0.00892049,  0.00845829,  0.01231496,  0.00634355,\n",
       "         0.00662608,  0.01039724,  0.01105995,  0.02777807,  0.01132491,\n",
       "         0.00584292,  0.01466935,  0.01626649,  0.00817326,  0.01360582,\n",
       "         0.00998757],\n",
       "       [ 0.02090391,  0.00892048,  0.00845829,  0.01231494,  0.00634356,\n",
       "         0.00662608,  0.01039724,  0.01105994,  0.02777805,  0.01132492,\n",
       "         0.00584292,  0.01466937,  0.01626649,  0.00817326,  0.01360582,\n",
       "         0.00998758],\n",
       "       [ 0.02090389,  0.00892047,  0.00845828,  0.01231494,  0.00634356,\n",
       "         0.00662608,  0.01039724,  0.01105995,  0.02777805,  0.01132493,\n",
       "         0.00584292,  0.01466937,  0.01626649,  0.00817326,  0.0136058 ,\n",
       "         0.00998757],\n",
       "       [ 0.02090389,  0.00892046,  0.00845828,  0.01231493,  0.00634356,\n",
       "         0.00662608,  0.01039724,  0.01105995,  0.02777805,  0.01132493,\n",
       "         0.00584292,  0.01466936,  0.01626649,  0.00817326,  0.0136058 ,\n",
       "         0.00998757],\n",
       "       [ 0.02090389,  0.00892046,  0.00845828,  0.01231493,  0.00634356,\n",
       "         0.00662608,  0.01039724,  0.01105995,  0.02777805,  0.01132493,\n",
       "         0.00584292,  0.01466936,  0.01626649,  0.00817326,  0.0136058 ,\n",
       "         0.00998757],\n",
       "       [ 0.02090389,  0.00892046,  0.00845828,  0.01231493,  0.00634356,\n",
       "         0.00662608,  0.01039724,  0.01105995,  0.02777805,  0.01132493,\n",
       "         0.00584292,  0.01466936,  0.01626649,  0.00817326,  0.0136058 ,\n",
       "         0.00998757],\n",
       "       [ 0.0209039 ,  0.00892047,  0.00845828,  0.01231494,  0.00634356,\n",
       "         0.00662608,  0.01039724,  0.01105994,  0.02777805,  0.01132492,\n",
       "         0.00584292,  0.01466937,  0.01626649,  0.00817327,  0.0136058 ,\n",
       "         0.00998757],\n",
       "       [ 0.0209039 ,  0.00892047,  0.00845828,  0.01231494,  0.00634356,\n",
       "         0.00662608,  0.01039724,  0.01105994,  0.02777805,  0.01132492,\n",
       "         0.00584292,  0.01466937,  0.01626649,  0.00817326,  0.0136058 ,\n",
       "         0.00998757],\n",
       "       [ 0.0209039 ,  0.00892048,  0.00845829,  0.01231494,  0.00634356,\n",
       "         0.00662608,  0.01039724,  0.01105994,  0.02777805,  0.01132492,\n",
       "         0.00584292,  0.01466937,  0.01626649,  0.00817326,  0.0136058 ,\n",
       "         0.00998758],\n",
       "       [ 0.02090391,  0.00892048,  0.00845828,  0.01231494,  0.00634356,\n",
       "         0.00662608,  0.01039724,  0.01105994,  0.02777806,  0.01132492,\n",
       "         0.00584292,  0.01466937,  0.01626649,  0.00817326,  0.01360582,\n",
       "         0.00998757],\n",
       "       [ 0.02090391,  0.00892048,  0.00845829,  0.01231495,  0.00634356,\n",
       "         0.00662608,  0.01039724,  0.01105994,  0.02777805,  0.01132492,\n",
       "         0.00584292,  0.01466936,  0.01626649,  0.00817326,  0.0136058 ,\n",
       "         0.00998757],\n",
       "       [ 0.02090391,  0.00892048,  0.00845829,  0.01231495,  0.00634355,\n",
       "         0.00662608,  0.01039724,  0.01105994,  0.02777806,  0.01132492,\n",
       "         0.00584292,  0.01466935,  0.01626649,  0.00817325,  0.01360582,\n",
       "         0.00998757],\n",
       "       [ 0.02090391,  0.00892048,  0.00845829,  0.01231495,  0.00634355,\n",
       "         0.00662609,  0.01039724,  0.01105994,  0.02777805,  0.01132491,\n",
       "         0.00584292,  0.01466935,  0.01626649,  0.00817325,  0.01360582,\n",
       "         0.00998757],\n",
       "       [ 0.02090388,  0.00892047,  0.00845828,  0.01231493,  0.00634357,\n",
       "         0.00662608,  0.01039724,  0.01105994,  0.02777803,  0.01132493,\n",
       "         0.00584292,  0.01466938,  0.01626649,  0.00817327,  0.0136058 ,\n",
       "         0.00998758],\n",
       "       [ 0.02090388,  0.00892047,  0.00845828,  0.01231493,  0.00634357,\n",
       "         0.00662608,  0.01039724,  0.01105994,  0.02777803,  0.01132493,\n",
       "         0.00584292,  0.01466938,  0.01626649,  0.00817327,  0.0136058 ,\n",
       "         0.00998758],\n",
       "       [ 0.02090388,  0.00892047,  0.00845828,  0.01231493,  0.00634357,\n",
       "         0.00662608,  0.01039724,  0.01105994,  0.02777803,  0.01132493,\n",
       "         0.00584292,  0.01466938,  0.01626649,  0.00817327,  0.0136058 ,\n",
       "         0.00998758],\n",
       "       [ 0.02090388,  0.00892047,  0.00845828,  0.01231493,  0.00634357,\n",
       "         0.00662608,  0.01039724,  0.01105994,  0.02777803,  0.01132493,\n",
       "         0.00584292,  0.01466938,  0.01626649,  0.00817327,  0.0136058 ,\n",
       "         0.00998758],\n",
       "       [ 0.02090388,  0.00892047,  0.00845828,  0.01231493,  0.00634357,\n",
       "         0.00662608,  0.01039724,  0.01105994,  0.02777803,  0.01132493,\n",
       "         0.00584292,  0.01466938,  0.01626649,  0.00817327,  0.0136058 ,\n",
       "         0.00998758],\n",
       "       [ 0.02090388,  0.00892047,  0.00845828,  0.01231493,  0.00634357,\n",
       "         0.00662608,  0.01039724,  0.01105994,  0.02777803,  0.01132493,\n",
       "         0.00584292,  0.01466938,  0.01626649,  0.00817327,  0.0136058 ,\n",
       "         0.00998758],\n",
       "       [ 0.02090388,  0.00892047,  0.00845828,  0.01231493,  0.00634357,\n",
       "         0.00662608,  0.01039724,  0.01105994,  0.02777803,  0.01132493,\n",
       "         0.00584292,  0.01466938,  0.01626649,  0.00817327,  0.0136058 ,\n",
       "         0.00998758],\n",
       "       [ 0.02090388,  0.00892047,  0.00845828,  0.01231493,  0.00634357,\n",
       "         0.00662608,  0.01039724,  0.01105994,  0.02777803,  0.01132493,\n",
       "         0.00584292,  0.01466938,  0.01626649,  0.00817327,  0.0136058 ,\n",
       "         0.00998758],\n",
       "       [ 0.02090388,  0.00892047,  0.00845828,  0.01231493,  0.00634357,\n",
       "         0.00662608,  0.01039724,  0.01105994,  0.02777803,  0.01132493,\n",
       "         0.00584292,  0.01466938,  0.01626649,  0.00817327,  0.0136058 ,\n",
       "         0.00998758],\n",
       "       [ 0.02090388,  0.00892047,  0.00845828,  0.01231493,  0.00634357,\n",
       "         0.00662608,  0.01039724,  0.01105994,  0.02777803,  0.01132493,\n",
       "         0.00584292,  0.01466938,  0.01626649,  0.00817327,  0.0136058 ,\n",
       "         0.00998758],\n",
       "       [ 0.02090388,  0.00892047,  0.00845828,  0.01231493,  0.00634357,\n",
       "         0.00662608,  0.01039724,  0.01105994,  0.02777803,  0.01132493,\n",
       "         0.00584292,  0.01466938,  0.01626649,  0.00817327,  0.0136058 ,\n",
       "         0.00998758]])"
      ]
     },
     "execution_count": 72,
     "metadata": {},
     "output_type": "execute_result"
    }
   ],
   "source": [
    "res[:,:output_size]"
   ]
  },
  {
   "cell_type": "code",
   "execution_count": 20,
   "metadata": {
    "collapsed": false
   },
   "outputs": [
    {
     "data": {
      "text/plain": [
       "array([[0, 0, 0, 0, 0, 0, 0, 0, 0, 0, 0, 0, 0, 0, 0, 0],\n",
       "       [0, 0, 0, 0, 0, 0, 0, 0, 0, 0, 0, 0, 0, 0, 0, 0],\n",
       "       [0, 0, 0, 0, 0, 0, 0, 0, 0, 0, 0, 0, 0, 0, 0, 0],\n",
       "       [0, 0, 0, 0, 0, 0, 0, 0, 0, 0, 0, 0, 0, 0, 0, 0],\n",
       "       [0, 0, 0, 0, 0, 0, 0, 0, 0, 0, 0, 0, 0, 0, 0, 0],\n",
       "       [0, 0, 0, 0, 0, 0, 0, 0, 0, 0, 0, 0, 0, 0, 0, 0],\n",
       "       [1, 0, 0, 1, 0, 0, 1, 1, 1, 0, 0, 0, 0, 0, 0, 0],\n",
       "       [1, 0, 1, 1, 0, 0, 1, 1, 0, 0, 0, 0, 0, 0, 0, 0],\n",
       "       [0, 0, 0, 0, 0, 0, 0, 0, 0, 0, 0, 0, 0, 0, 0, 0],\n",
       "       [0, 0, 0, 0, 0, 0, 0, 0, 0, 0, 0, 0, 0, 0, 0, 0],\n",
       "       [0, 0, 0, 0, 0, 0, 0, 0, 0, 0, 0, 0, 0, 0, 0, 0],\n",
       "       [0, 0, 0, 0, 0, 0, 0, 0, 0, 0, 0, 0, 0, 0, 0, 0],\n",
       "       [0, 0, 0, 0, 0, 0, 0, 0, 0, 0, 0, 0, 0, 0, 0, 0],\n",
       "       [0, 0, 0, 0, 0, 0, 0, 0, 0, 0, 0, 0, 0, 0, 0, 0],\n",
       "       [0, 0, 0, 0, 0, 0, 0, 0, 0, 0, 0, 0, 0, 0, 0, 0],\n",
       "       [1, 0, 0, 0, 0, 0, 1, 1, 1, 0, 0, 0, 0, 0, 0, 0],\n",
       "       [0, 0, 0, 0, 0, 0, 0, 0, 0, 0, 0, 0, 0, 0, 0, 0],\n",
       "       [0, 0, 0, 0, 0, 0, 0, 0, 0, 0, 0, 0, 0, 0, 0, 0],\n",
       "       [0, 0, 0, 0, 0, 0, 0, 0, 0, 0, 0, 0, 0, 0, 0, 0],\n",
       "       [0, 0, 0, 0, 0, 0, 0, 0, 0, 0, 0, 0, 0, 0, 0, 0],\n",
       "       [0, 0, 0, 0, 0, 0, 0, 0, 0, 0, 0, 0, 0, 0, 0, 0],\n",
       "       [0, 0, 0, 0, 0, 0, 0, 0, 0, 0, 0, 0, 0, 0, 0, 0],\n",
       "       [0, 0, 0, 0, 0, 0, 0, 0, 0, 0, 0, 0, 0, 0, 0, 0],\n",
       "       [0, 0, 0, 0, 0, 0, 0, 0, 0, 0, 0, 0, 0, 0, 0, 0],\n",
       "       [1, 0, 0, 0, 0, 0, 1, 0, 1, 1, 0, 0, 0, 1, 1, 0],\n",
       "       [1, 0, 0, 1, 0, 0, 1, 0, 1, 0, 0, 0, 0, 0, 0, 0],\n",
       "       [0, 0, 0, 0, 0, 0, 0, 0, 0, 0, 0, 0, 0, 0, 0, 0],\n",
       "       [0, 0, 0, 0, 0, 0, 0, 0, 0, 0, 0, 0, 0, 0, 0, 0]])"
      ]
     },
     "execution_count": 20,
     "metadata": {},
     "output_type": "execute_result"
    }
   ],
   "source": [
    "y_test[:28,:output_size]"
   ]
  },
  {
   "cell_type": "code",
   "execution_count": null,
   "metadata": {
    "collapsed": true
   },
   "outputs": [],
   "source": []
  }
 ],
 "metadata": {
  "anaconda-cloud": {},
  "kernelspec": {
   "display_name": "Python [conda root]",
   "language": "python",
   "name": "conda-root-py"
  },
  "language_info": {
   "codemirror_mode": {
    "name": "ipython",
    "version": 3
   },
   "file_extension": ".py",
   "mimetype": "text/x-python",
   "name": "python",
   "nbconvert_exporter": "python",
   "pygments_lexer": "ipython3",
   "version": "3.5.2"
  }
 },
 "nbformat": 4,
 "nbformat_minor": 1
}
